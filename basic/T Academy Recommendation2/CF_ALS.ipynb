{
 "cells": [
  {
   "cell_type": "markdown",
   "metadata": {},
   "source": [
    "- https://www.kaggle.com/code/chocozzz/00-als"
   ]
  },
  {
   "cell_type": "code",
   "execution_count": 1,
   "metadata": {},
   "outputs": [],
   "source": [
    "import numpy as np\n",
    "from tqdm import tqdm_notebook as tqdm\n",
    "\n",
    "# Base code : https://github.com/mickeykedia/Matrix-Factorization-ALS/blob/master/ALS%20Python%20Implementation.py\n",
    "class AlternatingLeastSquares():\n",
    "    def __init__(self, R, k, reg_param, epochs, verbose=False):\n",
    "        \"\"\"\n",
    "        :param R: rating matrix\n",
    "        :param k: latent parameter\n",
    "        :param learning_rate: alpha on weight update\n",
    "        :param reg_param: beta on weight update\n",
    "        :param epochs: training epochs\n",
    "        :param verbose: print status\n",
    "        \"\"\"\n",
    "        self._R = R\n",
    "        self._num_users, self._num_items = R.shape\n",
    "        self._k = k\n",
    "        self._reg_param = reg_param\n",
    "        self._epochs = epochs\n",
    "        self._verbose = verbose\n",
    "\n",
    "\n",
    "    def fit(self):\n",
    "        # init latent features\n",
    "        self._users = np.random.normal(size=(self._num_users, self._k))\n",
    "        self._items = np.random.normal(size=(self._num_items, self._k))\n",
    "\n",
    "        # train while epochs\n",
    "        self._training_process = []\n",
    "        self._user_error = 0; self._item_error = 0; \n",
    "        for epoch in range(self._epochs):\n",
    "            for i, Ri in enumerate(self._R):\n",
    "                self._users[i] = self.user_latent(i, Ri)\n",
    "                self._user_error = self.cost()\n",
    "                \n",
    "            for j, Rj in enumerate(self._R.T):\n",
    "                self._items[j] = self.item_latent(j, Rj)\n",
    "                self._item_error = self.cost()\n",
    "                \n",
    "            cost = self.cost()\n",
    "            self._training_process.append((epoch, cost))\n",
    "\n",
    "            # print status\n",
    "            if self._verbose == True and ((epoch + 1) % 10 == 0):\n",
    "                print(\"Iteration: %d ; cost = %.4f\" % (epoch + 1, cost))\n",
    "\n",
    "\n",
    "    def cost(self):\n",
    "        \"\"\"\n",
    "        compute root mean square error\n",
    "        :return: rmse cost\n",
    "        \"\"\"\n",
    "        xi, yi = self._R.nonzero()\n",
    "        cost = 0\n",
    "        for x, y in zip(xi, yi):\n",
    "            cost += pow(self._R[x, y] - self.get_prediction(x, y), 2)\n",
    "        return np.sqrt(cost/len(xi))\n",
    "\n",
    "\n",
    "    def user_latent(self, i, Ri):\n",
    "        \"\"\"\n",
    "        :param error: rating - prediction error\n",
    "        :param i: user index\n",
    "        :param Ri: Rating of user index i\n",
    "        :return: convergence value of user latent of i index\n",
    "        \"\"\"\n",
    "\n",
    "        du = np.linalg.solve(np.dot(self._items.T, np.dot(np.diag(Ri), self._items)) + self._reg_param * np.eye(self._k),\n",
    "                                   np.dot(self._items.T, np.dot(np.diag(Ri), self._R[i].T))).T\n",
    "        return du\n",
    "\n",
    "    def item_latent(self, j, Rj):\n",
    "        \"\"\"\n",
    "        :param error: rating - prediction error\n",
    "        :param j: item index\n",
    "        :param Rj: Rating of item index j\n",
    "        :return: convergence value of itemr latent of j index\n",
    "        \"\"\"\n",
    "\n",
    "        di = np.linalg.solve(np.dot(self._users.T, np.dot(np.diag(Rj), self._users)) + self._reg_param * np.eye(self._k),\n",
    "                                np.dot(self._users.T, np.dot(np.diag(Rj), self._R[:, j])))\n",
    "        return di\n",
    "\n",
    "\n",
    "    def get_prediction(self, i, j):\n",
    "        \"\"\"\n",
    "        get predicted rating: user_i, item_j\n",
    "        :return: prediction of r_ij\n",
    "        \"\"\"\n",
    "        return self._users[i, :].dot(self._items[j, :].T)\n",
    "\n",
    "\n",
    "    def get_complete_matrix(self):\n",
    "        \"\"\"\n",
    "        :return: complete matrix R^\n",
    "        \"\"\"\n",
    "        return self._users.dot(self._items.T)"
   ]
  },
  {
   "cell_type": "code",
   "execution_count": 2,
   "metadata": {},
   "outputs": [],
   "source": [
    "R = np.array([\n",
    "        [1, 0, 0, 1, 3],\n",
    "        [2, 0, 3, 1, 1],\n",
    "        [1, 2, 0, 5, 0],\n",
    "        [1, 0, 0, 4, 4],\n",
    "        [2, 1, 5, 4, 0],\n",
    "        [5, 1, 5, 4, 0],\n",
    "        [0, 0, 0, 1, 0],\n",
    "    ])"
   ]
  },
  {
   "cell_type": "code",
   "execution_count": 3,
   "metadata": {},
   "outputs": [
    {
     "name": "stdout",
     "output_type": "stream",
     "text": [
      "Iteration: 10 ; cost = 0.0237\n",
      "Iteration: 20 ; cost = 0.0106\n",
      "Iteration: 30 ; cost = 0.0089\n",
      "Iteration: 40 ; cost = 0.0078\n",
      "Iteration: 50 ; cost = 0.0070\n",
      "Iteration: 60 ; cost = 0.0063\n",
      "Iteration: 70 ; cost = 0.0057\n",
      "Iteration: 80 ; cost = 0.0052\n",
      "Iteration: 90 ; cost = 0.0048\n",
      "Iteration: 100 ; cost = 0.0045\n"
     ]
    }
   ],
   "source": [
    "als = AlternatingLeastSquares(R = R, reg_param = 0.01, epochs=100, verbose=True, k=3)\n",
    "als.fit()"
   ]
  },
  {
   "cell_type": "code",
   "execution_count": 4,
   "metadata": {},
   "outputs": [
    {
     "data": {
      "text/plain": [
       "array([[ 0.99342113, -0.50931381,  3.3753815 ,  0.9960949 ,  2.99468115],\n",
       "       [ 2.0030893 , -0.3620427 ,  2.99895752,  1.01560445,  1.00768938],\n",
       "       [ 1.00043833,  1.99792541,  4.15916968,  5.00016896, -1.33506728],\n",
       "       [ 0.99941619,  0.47383013,  6.48150384,  3.99855574,  4.00078286],\n",
       "       [ 2.00203941,  1.00302323,  4.99881299,  4.00071887,  0.17892579],\n",
       "       [ 4.99902001,  0.99980065,  5.00033594,  3.99843101, -3.74435143],\n",
       "       [ 0.1539234 ,  0.39367135,  0.84172916,  0.99657581, -0.18490332]])"
      ]
     },
     "execution_count": 4,
     "metadata": {},
     "output_type": "execute_result"
    }
   ],
   "source": [
    "als.get_complete_matrix()"
   ]
  },
  {
   "cell_type": "code",
   "execution_count": null,
   "metadata": {},
   "outputs": [],
   "source": []
  }
 ],
 "metadata": {
  "interpreter": {
   "hash": "819822aad1d7dd5a8911f6442f86af1dcc8bcd014a1dc82c30af569169ee7dac"
  },
  "kernelspec": {
   "display_name": "Python 3.9.10 64-bit ('pytorch3.9')",
   "language": "python",
   "name": "python3"
  },
  "language_info": {
   "codemirror_mode": {
    "name": "ipython",
    "version": 3
   },
   "file_extension": ".py",
   "mimetype": "text/x-python",
   "name": "python",
   "nbconvert_exporter": "python",
   "pygments_lexer": "ipython3",
   "version": "3.9.10+"
  },
  "orig_nbformat": 4
 },
 "nbformat": 4,
 "nbformat_minor": 2
}
