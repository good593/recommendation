{
 "cells": [
  {
   "cell_type": "markdown",
   "metadata": {},
   "source": [
    "- https://www.kaggle.com/code/chocozzz/03-goodbooks-10k-collaborative-filtering-model"
   ]
  },
  {
   "cell_type": "code",
   "execution_count": 1,
   "metadata": {},
   "outputs": [
    {
     "data": {
      "text/plain": [
       "<matplotlib.pyplot._IonContext at 0x1039dc460>"
      ]
     },
     "execution_count": 1,
     "metadata": {},
     "output_type": "execute_result"
    }
   ],
   "source": [
    "import pandas as pd\n",
    "import numpy as np \n",
    "import os, sys, gc \n",
    "\n",
    "from tqdm.notebook import tqdm \n",
    "\n",
    "import matplotlib.pyplot as plt \n",
    "plt.rcParams['figure.figsize'] = (20,10)\n",
    "plt.ion()"
   ]
  },
  {
   "cell_type": "code",
   "execution_count": 2,
   "metadata": {},
   "outputs": [],
   "source": [
    "path = \"./data/books/\""
   ]
  },
  {
   "cell_type": "code",
   "execution_count": 3,
   "metadata": {},
   "outputs": [],
   "source": [
    "books = pd.read_csv(path + \"books.csv\")\n",
    "book_tags = pd.read_csv(path + \"book_tags.csv\")\n",
    "ratings = pd.read_csv(path + \"ratings.csv\")\n",
    "to_read = pd.read_csv(path + \"to_read.csv\")\n",
    "\n",
    "train = pd.read_csv(path + 'eda_train.csv')\n",
    "test = pd.read_csv(path + 'eda_test.csv')"
   ]
  },
  {
   "cell_type": "code",
   "execution_count": 4,
   "metadata": {},
   "outputs": [],
   "source": [
    "train['book_id'] = train['book_id'].astype(str)\n",
    "test['book_id'] = test['book_id'].astype(str)\n",
    "\n",
    "books['book_id'] = books['book_id'].astype(str)"
   ]
  },
  {
   "cell_type": "code",
   "execution_count": 5,
   "metadata": {},
   "outputs": [],
   "source": [
    "popular_rec_model = books.sort_values(by='books_count', ascending=False)['book_id'].values[0:500]"
   ]
  },
  {
   "cell_type": "code",
   "execution_count": 6,
   "metadata": {},
   "outputs": [
    {
     "data": {
      "application/vnd.jupyter.widget-view+json": {
       "model_id": "bfdaa862263f4f558b20ab24af12b9bf",
       "version_major": 2,
       "version_minor": 0
      },
      "text/plain": [
       "  0%|          | 0/53424 [00:00<?, ?it/s]"
      ]
     },
     "metadata": {},
     "output_type": "display_data"
    }
   ],
   "source": [
    "sol = test.groupby(['user_id'])['book_id'].agg({'unique'}).reset_index()\n",
    "gt = {}\n",
    "for user in tqdm(sol['user_id'].unique()):\n",
    "  gt[user] = list(sol[sol['user_id']==user]['unique'].values[0])"
   ]
  },
  {
   "cell_type": "code",
   "execution_count": 8,
   "metadata": {},
   "outputs": [
    {
     "data": {
      "text/html": [
       "<div>\n",
       "<style scoped>\n",
       "    .dataframe tbody tr th:only-of-type {\n",
       "        vertical-align: middle;\n",
       "    }\n",
       "\n",
       "    .dataframe tbody tr th {\n",
       "        vertical-align: top;\n",
       "    }\n",
       "\n",
       "    .dataframe thead th {\n",
       "        text-align: right;\n",
       "    }\n",
       "</style>\n",
       "<table border=\"1\" class=\"dataframe\">\n",
       "  <thead>\n",
       "    <tr style=\"text-align: right;\">\n",
       "      <th></th>\n",
       "      <th>user_id</th>\n",
       "    </tr>\n",
       "  </thead>\n",
       "  <tbody>\n",
       "    <tr>\n",
       "      <th>0</th>\n",
       "      <td>1</td>\n",
       "    </tr>\n",
       "    <tr>\n",
       "      <th>1</th>\n",
       "      <td>2</td>\n",
       "    </tr>\n",
       "    <tr>\n",
       "      <th>2</th>\n",
       "      <td>3</td>\n",
       "    </tr>\n",
       "    <tr>\n",
       "      <th>3</th>\n",
       "      <td>4</td>\n",
       "    </tr>\n",
       "    <tr>\n",
       "      <th>4</th>\n",
       "      <td>5</td>\n",
       "    </tr>\n",
       "  </tbody>\n",
       "</table>\n",
       "</div>"
      ],
      "text/plain": [
       "   user_id\n",
       "0        1\n",
       "1        2\n",
       "2        3\n",
       "3        4\n",
       "4        5"
      ]
     },
     "execution_count": 8,
     "metadata": {},
     "output_type": "execute_result"
    }
   ],
   "source": [
    "rec_df = pd.DataFrame()\n",
    "rec_df['user_id'] = train['user_id'].unique()\n",
    "rec_df.head()"
   ]
  },
  {
   "cell_type": "markdown",
   "metadata": {},
   "source": [
    "### SGD를 이용한 협업필터링 진행"
   ]
  },
  {
   "cell_type": "code",
   "execution_count": 9,
   "metadata": {},
   "outputs": [],
   "source": [
    "import numpy as np \n",
    "from tqdm import tqdm_notebook as tqdm \n",
    "\n",
    "class MatrixFactorization():\n",
    "  def __init__(self, R, k, learning_rate, reg_param, epochs, verbose=False):\n",
    "    \"\"\"\n",
    "      R: rating matrix\n",
    "      k: latent parameter\n",
    "      learning_rate: beta on weight update \n",
    "      epochs: training epochs\n",
    "      verbose: print status\n",
    "    \"\"\"\n",
    "    self._R = R\n",
    "    self._num_users, self._num_items = R.shape\n",
    "    self._k = k \n",
    "    self._learning_rate = learning_rate \n",
    "    self._reg_param = reg_param \n",
    "    self._epochs = epochs \n",
    "    self._verbose = verbose \n",
    "\n",
    "  def fit(self):\n",
    "    \"\"\"\n",
    "      training Matrix Factorization: Update matrix latent weight and bias \n",
    "      참고: self._b에 대한 설명 \n",
    "      - global bias: input R에서 평가가 매겨진 rating의 평균값을 global bias로 사용 \n",
    "      - 정규화 기능. 최종 rating에 음수가 들어가는 것 대신 latent feature에 음수가 포함되도록 해줌.\n",
    "\n",
    "      return: training_process\n",
    "    \"\"\"\n",
    "    # inint latent features \n",
    "    self._P = np.random.normal(size=(self._num_users, self._k))\n",
    "    self._Q = np.random.normal(size=(self._num_items, self._k))\n",
    "\n",
    "    # init biases \n",
    "    self._b_P = np.zeros(self._num_users)\n",
    "    self._b_Q = np.zeros(self._num_items)\n",
    "    self._b = np.mean(self._R[np.where(self._R != 0)])\n",
    "\n",
    "    # train while epochs \n",
    "    self._training_process = [] \n",
    "    for epoch in range(self._epochs):\n",
    "      # rating이 존재하는 index를 기준으로 training \n",
    "      xi, yi = self._R.nonzero()\n",
    "      for i, j in zip(xi, yi):\n",
    "        self.gradient_descent(i, j, self._R[i, j])\n",
    "      \n",
    "      cost = self.cost()\n",
    "      self._training_process.append((epoch, cost))\n",
    "\n",
    "      # print status \n",
    "      if self._verbose and ((epoch +1) % 10 == 0):\n",
    "        print(\"Iteration: %d; cost: %.4f\" % (epoch +1, cost))\n",
    "\n",
    "  def cost(self):\n",
    "    \"\"\"\n",
    "      compute root mean square error\n",
    "      return rmse cost\n",
    "    \"\"\"\n",
    "    # xi, yi: R[xi, yi]는 nonzero인 value를 의미한다. \n",
    "    xi, yi = self._R.nonzero()\n",
    "    cost = 0\n",
    "    for x, y in zip(xi, yi):\n",
    "      cost += pow(self._R[x, y] - self.get_prediction(x, y), 2)\n",
    "\n",
    "    return np.sqrt(cost/len(xi))\n",
    "\n",
    "  def gradient(self, error, i, j):\n",
    "    \"\"\"\n",
    "      gradient of latent feature for GD\n",
    "      param\n",
    "        error: rating - prediction error \n",
    "        i: user index\n",
    "        j: item index\n",
    "      return gradient of leatent feature tuple\n",
    "    \"\"\"\n",
    "    dp = (error * self._Q[j, :]) - (self._reg_param * self._P[i, :])\n",
    "    dq = (error * self._P[i, :]) - (self._reg_param * self._Q[j, :])\n",
    "    return dp, dq \n",
    "\n",
    "  def gradient_descent(self, i, j, rating):\n",
    "    \"\"\"\n",
    "      graident descent function\n",
    "      param\n",
    "        i: user index of matrix\n",
    "        j: item index of matrix\n",
    "        rating: rating of (i,j)\n",
    "    \"\"\"\n",
    "    # get error\n",
    "    prediction = self.get_prediction(i,j)\n",
    "    error = rating - prediction \n",
    "\n",
    "    # update biases\n",
    "    self._b_P[i] += self._learning_rate * (error - self._reg_param * self._b_P[i])\n",
    "    self._b_Q[j] += self._learning_rate * (error - self._reg_param * self._b_Q[j])\n",
    "\n",
    "    # update latent feature\n",
    "    dp, dq = self.gradient(error, i, j)\n",
    "    self._P[i, :] += self._learning_rate * dp \n",
    "    self._Q[j, :] += self._learning_rate * dq \n",
    "\n",
    "  def get_prediction(self, i, j):\n",
    "    \"\"\"\n",
    "      get predicted rating\n",
    "      param\n",
    "        i: user_i\n",
    "        j: item_j\n",
    "      return prediction of r_ij\n",
    "    \"\"\"\n",
    "    return self._b + self._b_P[i] + self._b_Q[j] + self._P[i, :].dot(self._Q[j, :].T)\n",
    "\n",
    "  def get_complete_amtrix(self):\n",
    "    \"\"\"\n",
    "      computer complete matrix PXQ + P.bias + Q.bias + global bias\n",
    "      - PXQ 행렬에 b_P[:, np.newaxis]를 더하는 것은 각 열마다 bias를 더해주는 것\n",
    "      - b_Q[np.newaxis, :]를 더하는 것은 각 행마다 bias를 더해주는 것 \n",
    "      - b를 더하는 것은 각 element마다 bias를 더해주는 것\n",
    "      - newaxis: 차원을 추가해줌. 1차원인 Latent들로 2차원의 R에 행/열 단위 연산을 해주기위해 차원을 추가하는 것.\n",
    "      return complete matrix R^\n",
    "    \"\"\"\n",
    "    return self._b + self._b_P[:, np.newaxis] + self._b_Q[np.newaxis, :] + self._P.dot(self._Q.T)"
   ]
  },
  {
   "cell_type": "code",
   "execution_count": 10,
   "metadata": {},
   "outputs": [],
   "source": [
    "user2idx = {}\n",
    "for i, l in enumerate(train['user_id'].unique()):\n",
    "  user2idx[l] = i\n",
    "\n",
    "book2idx = {}\n",
    "for i, l in enumerate(train['book_id'].unique()):\n",
    "  book2idx[l] = i "
   ]
  },
  {
   "cell_type": "code",
   "execution_count": 12,
   "metadata": {},
   "outputs": [],
   "source": [
    "idx2user = {i: user for user, i in user2idx.items()}\n",
    "idx2book = {i: book for book, i in book2idx.items()}"
   ]
  },
  {
   "cell_type": "code",
   "execution_count": 13,
   "metadata": {},
   "outputs": [],
   "source": [
    "data = train[['user_id', 'book_id']].reset_index(drop=True)\n",
    "useridx = data['useridx'] = train['user_id'].apply(lambda x: user2idx[x]).values \n",
    "bookidx = data['bookidx'] = train['book_id'].apply(lambda x: book2idx[x]).values \n",
    "\n",
    "rating = np.ones(len(data))"
   ]
  },
  {
   "cell_type": "code",
   "execution_count": 14,
   "metadata": {},
   "outputs": [
    {
     "data": {
      "text/plain": [
       "<53382x10000 sparse matrix of type '<class 'numpy.float64'>'\n",
       "\twith 387039 stored elements in Compressed Sparse Row format>"
      ]
     },
     "execution_count": 14,
     "metadata": {},
     "output_type": "execute_result"
    }
   ],
   "source": [
    "from scipy.sparse import csr_matrix\n",
    "\n",
    "purchase_sparse = csr_matrix((rating, (useridx, bookidx)), shape=(len(set(useridx)), len(set(bookidx))))\n",
    "purchase_sparse "
   ]
  },
  {
   "cell_type": "code",
   "execution_count": 15,
   "metadata": {},
   "outputs": [
    {
     "data": {
      "text/plain": [
       "array([[1., 0., 0., ..., 0., 0., 0.],\n",
       "       [0., 1., 0., ..., 0., 0., 0.],\n",
       "       [0., 0., 1., ..., 0., 0., 0.],\n",
       "       ...,\n",
       "       [0., 0., 0., ..., 0., 0., 0.],\n",
       "       [0., 0., 0., ..., 0., 0., 0.],\n",
       "       [0., 0., 0., ..., 0., 0., 0.]])"
      ]
     },
     "execution_count": 15,
     "metadata": {},
     "output_type": "execute_result"
    }
   ],
   "source": [
    "R = purchase_sparse.toarray()\n",
    "R"
   ]
  },
  {
   "cell_type": "code",
   "execution_count": 16,
   "metadata": {},
   "outputs": [
    {
     "name": "stdout",
     "output_type": "stream",
     "text": [
      "Iteration: 10; cost: 0.4632\n",
      "Iteration: 20; cost: 0.3142\n",
      "Iteration: 30; cost: 0.2600\n",
      "Iteration: 40; cost: 0.2303\n",
      "Iteration: 50; cost: 0.2102\n",
      "Iteration: 60; cost: 0.1950\n",
      "Iteration: 70; cost: 0.1828\n",
      "Iteration: 80; cost: 0.1726\n",
      "Iteration: 90; cost: 0.1638\n",
      "Iteration: 100; cost: 0.1563\n",
      "CPU times: user 13min 35s, sys: 4.13 s, total: 13min 39s\n",
      "Wall time: 13min 40s\n"
     ]
    }
   ],
   "source": [
    "%%time \n",
    "factorizer = MatrixFactorization(R, k=20, learning_rate=0.01, reg_param=0.01, epochs=100, verbose=True)\n",
    "factorizer.fit()"
   ]
  },
  {
   "cell_type": "code",
   "execution_count": 17,
   "metadata": {},
   "outputs": [],
   "source": [
    "del R \n",
    "gc.collect()\n",
    "\n",
    "sgd_rec_model = factorizer.get_complete_amtrix()"
   ]
  },
  {
   "cell_type": "code",
   "execution_count": 18,
   "metadata": {},
   "outputs": [
    {
     "data": {
      "text/html": [
       "<div>\n",
       "<style scoped>\n",
       "    .dataframe tbody tr th:only-of-type {\n",
       "        vertical-align: middle;\n",
       "    }\n",
       "\n",
       "    .dataframe tbody tr th {\n",
       "        vertical-align: top;\n",
       "    }\n",
       "\n",
       "    .dataframe thead th {\n",
       "        text-align: right;\n",
       "    }\n",
       "</style>\n",
       "<table border=\"1\" class=\"dataframe\">\n",
       "  <thead>\n",
       "    <tr style=\"text-align: right;\">\n",
       "      <th></th>\n",
       "      <th>user_id</th>\n",
       "      <th>unique</th>\n",
       "    </tr>\n",
       "  </thead>\n",
       "  <tbody>\n",
       "    <tr>\n",
       "      <th>0</th>\n",
       "      <td>1</td>\n",
       "      <td>[1180]</td>\n",
       "    </tr>\n",
       "    <tr>\n",
       "      <th>1</th>\n",
       "      <td>2</td>\n",
       "      <td>[8034]</td>\n",
       "    </tr>\n",
       "    <tr>\n",
       "      <th>2</th>\n",
       "      <td>3</td>\n",
       "      <td>[9049]</td>\n",
       "    </tr>\n",
       "    <tr>\n",
       "      <th>3</th>\n",
       "      <td>4</td>\n",
       "      <td>[8464]</td>\n",
       "    </tr>\n",
       "    <tr>\n",
       "      <th>4</th>\n",
       "      <td>5</td>\n",
       "      <td>[4829, 7487]</td>\n",
       "    </tr>\n",
       "  </tbody>\n",
       "</table>\n",
       "</div>"
      ],
      "text/plain": [
       "   user_id        unique\n",
       "0        1        [1180]\n",
       "1        2        [8034]\n",
       "2        3        [9049]\n",
       "3        4        [8464]\n",
       "4        5  [4829, 7487]"
      ]
     },
     "execution_count": 18,
     "metadata": {},
     "output_type": "execute_result"
    }
   ],
   "source": [
    "# 내가 읽은 책의 목록을 추출\n",
    "read_list = train.groupby(['user_id'])['book_id'].agg({'unique'}).reset_index()\n",
    "read_list.head()"
   ]
  },
  {
   "cell_type": "code",
   "execution_count": 19,
   "metadata": {},
   "outputs": [
    {
     "name": "stderr",
     "output_type": "stream",
     "text": [
      "/var/folders/tv/05qbcb8954z9x1yvqv_kr2t80000gn/T/ipykernel_74722/3020858430.py:2: TqdmDeprecationWarning: This function will be removed in tqdm==5.0.0\n",
      "Please use `tqdm.notebook.tqdm` instead of `tqdm.tqdm_notebook`\n",
      "  for user in tqdm(data['useridx'].unique()):\n"
     ]
    },
    {
     "data": {
      "application/vnd.jupyter.widget-view+json": {
       "model_id": "1957584d12d04619b1488b7be41d4bff",
       "version_major": 2,
       "version_minor": 0
      },
      "text/plain": [
       "  0%|          | 0/53382 [00:00<?, ?it/s]"
      ]
     },
     "metadata": {},
     "output_type": "display_data"
    }
   ],
   "source": [
    "total_rec_list = {}\n",
    "for user in tqdm(data['useridx'].unique()):\n",
    "  rec_list = [] \n",
    "\n",
    "  # 기존에 만든 book id를 변경 \n",
    "  rating_scores = [\n",
    "    (idx2book[i], c) for i, c in enumerate(sgd_rec_model[user]) if i != user # 자기 자신이 추천안되도록\n",
    "  ]\n",
    "  rating_scores = sorted(rating_scores, key= lambda x: x[1], reverse=True) # 평점이 높은 순서대로 정렬\n",
    "\n",
    "  seen = read_list[read_list['user_id'] == idx2user[user]]['unique'].values[0]\n",
    "  for rec in rating_scores[0:250]:\n",
    "    if rec[0] not in seen:\n",
    "      rec_list.append(rec[0])\n",
    "\n",
    "  if len(rec_list) < 200:\n",
    "    for i in popular_rec_model[0:200]:\n",
    "      if i not in seen:\n",
    "        rec_list.append(i)\n",
    "\n",
    "  total_rec_list[idx2user[user]] = rec_list[0:200]"
   ]
  },
  {
   "cell_type": "code",
   "execution_count": 20,
   "metadata": {},
   "outputs": [],
   "source": [
    "import six \n",
    "import math \n",
    "\n",
    "class evaluate():\n",
    "  def __init__(self, recs, gt, topn=100):\n",
    "    self.recs = recs \n",
    "    self.gt = gt \n",
    "    self.topn = topn \n",
    "\n",
    "  def _ndcg(self):\n",
    "    Q, S = 0.0, 0.0\n",
    "    for u, seen in six.iteritems(self.gt):\n",
    "      seen = list(set(seen))\n",
    "      rec = self.recs.get(u, [])\n",
    "      if not rec or len(seen) == 0:\n",
    "        continue \n",
    "\n",
    "      dcg = 0.0 \n",
    "      idcg = sum([\n",
    "        1.0 / math.log(i +2, 2) for i in range(min(len(seen), len(rec)))\n",
    "      ])\n",
    "      for i, r in enumerate(rec):\n",
    "        if r not in seen:\n",
    "          continue \n",
    "        rank = i +1 \n",
    "        dcg += 1.0 / math.log(rank +1, 2)\n",
    "      \n",
    "      ndcg = dcg / idcg \n",
    "      S += ndcg \n",
    "      Q += 1 \n",
    "    \n",
    "    return S / Q \n",
    "\n",
    "  def _map(self):\n",
    "    n, ap = 0.0, 0.0 \n",
    "    for u, seen in six.iteritems(self.gt):\n",
    "      seen = list(set(seen))\n",
    "      rec = self.recs.get(u, [])\n",
    "      if not rec or len(seen) == 0:\n",
    "        continue \n",
    "\n",
    "      _ap, correct = 0.0, 0.0 \n",
    "      for i, r in enumerate(rec):\n",
    "        if r in seen:\n",
    "          correct += 1\n",
    "          _ap += (correct / (i + 1.0))\n",
    "\n",
    "      _ap /= min(len(seen), len(rec))\n",
    "      ap += _ap \n",
    "      n += 1.0 \n",
    "\n",
    "    return ap / n \n",
    "\n",
    "  def _entropy_diversity(self):\n",
    "    sz = float(len(self.recs)) * self.topn \n",
    "    freq = {} \n",
    "    for u, rec in six.iteritems(self.recs):\n",
    "      for r in rec:\n",
    "        freq[r] = freq.get(r, 0) + 1\n",
    "    \n",
    "    ent = -sum([\n",
    "      v / sz * math.log(v/sz) for v in six.itervalues(freq)\n",
    "    ])\n",
    "    return ent \n",
    "\n",
    "  def _evaluate(self):\n",
    "    print('MAP@%s: %s' % (self.topn, self._map()))\n",
    "    print('NDCG@%s: %s' % (self.topn, self._ndcg()))\n",
    "    print('EntDiv@%s: %s' % (self.topn, self._entropy_diversity()))"
   ]
  },
  {
   "cell_type": "code",
   "execution_count": 21,
   "metadata": {},
   "outputs": [
    {
     "name": "stdout",
     "output_type": "stream",
     "text": [
      "MAP@200: 0.0006076238705365617\n",
      "NDCG@200: 0.0061132877401394335\n",
      "EntDiv@200: 8.302659538139352\n"
     ]
    }
   ],
   "source": [
    "evaluate_func = evaluate(recs=total_rec_list, gt=gt, topn=200)\n",
    "evaluate_func._evaluate()"
   ]
  },
  {
   "cell_type": "markdown",
   "metadata": {},
   "source": [
    "## ALS 방식을 이용한 협업필터링 "
   ]
  },
  {
   "cell_type": "code",
   "execution_count": 59,
   "metadata": {},
   "outputs": [
    {
     "data": {
      "text/plain": [
       "<53382x10000 sparse matrix of type '<class 'numpy.float64'>'\n",
       "\twith 387039 stored elements in Compressed Sparse Row format>"
      ]
     },
     "execution_count": 59,
     "metadata": {},
     "output_type": "execute_result"
    }
   ],
   "source": [
    "from scipy.sparse import csr_matrix\n",
    "\n",
    "purchase_sparse = csr_matrix((rating, (useridx, bookidx)), shape=(len(set(useridx)), len(set(bookidx))))\n",
    "purchase_sparse "
   ]
  },
  {
   "cell_type": "code",
   "execution_count": 60,
   "metadata": {},
   "outputs": [
    {
     "data": {
      "application/vnd.jupyter.widget-view+json": {
       "model_id": "b02507184e23451eadd8ee93e21b0dee",
       "version_major": 2,
       "version_minor": 0
      },
      "text/plain": [
       "  0%|          | 0/100 [00:00<?, ?it/s]"
      ]
     },
     "metadata": {},
     "output_type": "display_data"
    }
   ],
   "source": [
    "from implicit.evaluation import  *\n",
    "from implicit.als import AlternatingLeastSquares as ALS\n",
    "from implicit.bpr import BayesianPersonalizedRanking as BPR\n",
    "\n",
    "als_model = ALS(factors=20, regularization=0.01, iterations = 100)\n",
    "als_model.fit(purchase_sparse.T)"
   ]
  },
  {
   "cell_type": "code",
   "execution_count": 61,
   "metadata": {},
   "outputs": [
    {
     "data": {
      "text/plain": [
       "(53382, 10000)"
      ]
     },
     "execution_count": 61,
     "metadata": {},
     "output_type": "execute_result"
    }
   ],
   "source": [
    "purchase_sparse_array = purchase_sparse.toarray()\n",
    "purchase_sparse_array.shape"
   ]
  },
  {
   "cell_type": "code",
   "execution_count": 62,
   "metadata": {},
   "outputs": [
    {
     "ename": "ValueError",
     "evalue": "user_items must contain 1 row for every user in userids",
     "output_type": "error",
     "traceback": [
      "\u001b[0;31m---------------------------------------------------------------------------\u001b[0m",
      "\u001b[0;31mValueError\u001b[0m                                Traceback (most recent call last)",
      "\u001b[1;32m/Users/gyoungwon-cho/dev/github/recommendation/T Academy Recommendation2/goodbook_CF.ipynb Cell 26'\u001b[0m in \u001b[0;36m<cell line: 1>\u001b[0;34m()\u001b[0m\n\u001b[0;32m----> <a href='vscode-notebook-cell:/Users/gyoungwon-cho/dev/github/recommendation/T%20Academy%20Recommendation2/goodbook_CF.ipynb#ch0000023?line=0'>1</a>\u001b[0m als_model\u001b[39m.\u001b[39;49mrecommend(\u001b[39m0\u001b[39;49m, purchase_sparse, N\u001b[39m=\u001b[39;49m\u001b[39m100\u001b[39;49m)[\u001b[39m0\u001b[39m:\u001b[39m10\u001b[39m]\n",
      "File \u001b[0;32m~/.pyenv/versions/3.9-dev/envs/pytorch3.9/lib/python3.9/site-packages/implicit/cpu/matrix_factorization_base.py:45\u001b[0m, in \u001b[0;36mMatrixFactorizationBase.recommend\u001b[0;34m(self, userid, user_items, N, filter_already_liked_items, filter_items, recalculate_user, items)\u001b[0m\n\u001b[1;32m     <a href='file:///Users/gyoungwon-cho/.pyenv/versions/3.9-dev/envs/pytorch3.9/lib/python3.9/site-packages/implicit/cpu/matrix_factorization_base.py?line=42'>43</a>\u001b[0m     user_count \u001b[39m=\u001b[39m \u001b[39m1\u001b[39m \u001b[39mif\u001b[39;00m np\u001b[39m.\u001b[39misscalar(userid) \u001b[39melse\u001b[39;00m \u001b[39mlen\u001b[39m(userid)\n\u001b[1;32m     <a href='file:///Users/gyoungwon-cho/.pyenv/versions/3.9-dev/envs/pytorch3.9/lib/python3.9/site-packages/implicit/cpu/matrix_factorization_base.py?line=43'>44</a>\u001b[0m     \u001b[39mif\u001b[39;00m user_items\u001b[39m.\u001b[39mshape[\u001b[39m0\u001b[39m] \u001b[39m!=\u001b[39m user_count:\n\u001b[0;32m---> <a href='file:///Users/gyoungwon-cho/.pyenv/versions/3.9-dev/envs/pytorch3.9/lib/python3.9/site-packages/implicit/cpu/matrix_factorization_base.py?line=44'>45</a>\u001b[0m         \u001b[39mraise\u001b[39;00m \u001b[39mValueError\u001b[39;00m(\u001b[39m\"\u001b[39m\u001b[39muser_items must contain 1 row for every user in userids\u001b[39m\u001b[39m\"\u001b[39m)\n\u001b[1;32m     <a href='file:///Users/gyoungwon-cho/.pyenv/versions/3.9-dev/envs/pytorch3.9/lib/python3.9/site-packages/implicit/cpu/matrix_factorization_base.py?line=46'>47</a>\u001b[0m user \u001b[39m=\u001b[39m \u001b[39mself\u001b[39m\u001b[39m.\u001b[39m_user_factor(userid, user_items, recalculate_user)\n\u001b[1;32m     <a href='file:///Users/gyoungwon-cho/.pyenv/versions/3.9-dev/envs/pytorch3.9/lib/python3.9/site-packages/implicit/cpu/matrix_factorization_base.py?line=48'>49</a>\u001b[0m item_factors \u001b[39m=\u001b[39m \u001b[39mself\u001b[39m\u001b[39m.\u001b[39mitem_factors\n",
      "\u001b[0;31mValueError\u001b[0m: user_items must contain 1 row for every user in userids"
     ]
    }
   ],
   "source": [
    "als_model.recommend(0, purchase_sparse, N=100)[0:10]"
   ]
  },
  {
   "cell_type": "code",
   "execution_count": null,
   "metadata": {},
   "outputs": [
    {
     "data": {
      "application/vnd.jupyter.widget-view+json": {
       "model_id": "46a1fe0dada746da861ab75bf0816132",
       "version_major": 2,
       "version_minor": 0
      },
      "text/plain": [
       "  0%|          | 0/53382 [00:00<?, ?it/s]"
      ]
     },
     "metadata": {},
     "output_type": "display_data"
    },
    {
     "ename": "ValueError",
     "evalue": "user_items must contain 1 row for every user in userids",
     "output_type": "error",
     "traceback": [
      "\u001b[0;31m---------------------------------------------------------------------------\u001b[0m",
      "\u001b[0;31mValueError\u001b[0m                                Traceback (most recent call last)",
      "\u001b[1;32m/Users/gyoungwon-cho/dev/github/recommendation/T Academy Recommendation2/goodbook_CF.ipynb Cell 26'\u001b[0m in \u001b[0;36m<cell line: 2>\u001b[0;34m()\u001b[0m\n\u001b[1;32m      <a href='vscode-notebook-cell:/Users/gyoungwon-cho/dev/github/recommendation/T%20Academy%20Recommendation2/goodbook_CF.ipynb#ch0000024?line=4'>5</a>\u001b[0m \u001b[39m# 기존에 만든 Book ID를 변경 \u001b[39;00m\n\u001b[1;32m      <a href='vscode-notebook-cell:/Users/gyoungwon-cho/dev/github/recommendation/T%20Academy%20Recommendation2/goodbook_CF.ipynb#ch0000024?line=5'>6</a>\u001b[0m seen \u001b[39m=\u001b[39m read_list[read_list[\u001b[39m'\u001b[39m\u001b[39muser_id\u001b[39m\u001b[39m'\u001b[39m] \u001b[39m==\u001b[39m idx2user[user]][\u001b[39m'\u001b[39m\u001b[39munique\u001b[39m\u001b[39m'\u001b[39m]\u001b[39m.\u001b[39mvalues[\u001b[39m0\u001b[39m]\n\u001b[0;32m----> <a href='vscode-notebook-cell:/Users/gyoungwon-cho/dev/github/recommendation/T%20Academy%20Recommendation2/goodbook_CF.ipynb#ch0000024?line=6'>7</a>\u001b[0m recs \u001b[39m=\u001b[39m als_model\u001b[39m.\u001b[39;49mrecommend(user, purchase_sparse, N\u001b[39m=\u001b[39;49m\u001b[39m250\u001b[39;49m)\n\u001b[1;32m      <a href='vscode-notebook-cell:/Users/gyoungwon-cho/dev/github/recommendation/T%20Academy%20Recommendation2/goodbook_CF.ipynb#ch0000024?line=7'>8</a>\u001b[0m recs \u001b[39m=\u001b[39m [idx2book[x[\u001b[39m0\u001b[39m]] \u001b[39mfor\u001b[39;00m x \u001b[39min\u001b[39;00m recs][\u001b[39m0\u001b[39m:\u001b[39m250\u001b[39m]  \n\u001b[1;32m     <a href='vscode-notebook-cell:/Users/gyoungwon-cho/dev/github/recommendation/T%20Academy%20Recommendation2/goodbook_CF.ipynb#ch0000024?line=9'>10</a>\u001b[0m \u001b[39mfor\u001b[39;00m rec \u001b[39min\u001b[39;00m recs: \n",
      "File \u001b[0;32m~/.pyenv/versions/3.9-dev/envs/pytorch3.9/lib/python3.9/site-packages/implicit/cpu/matrix_factorization_base.py:45\u001b[0m, in \u001b[0;36mMatrixFactorizationBase.recommend\u001b[0;34m(self, userid, user_items, N, filter_already_liked_items, filter_items, recalculate_user, items)\u001b[0m\n\u001b[1;32m     <a href='file:///Users/gyoungwon-cho/.pyenv/versions/3.9-dev/envs/pytorch3.9/lib/python3.9/site-packages/implicit/cpu/matrix_factorization_base.py?line=42'>43</a>\u001b[0m     user_count \u001b[39m=\u001b[39m \u001b[39m1\u001b[39m \u001b[39mif\u001b[39;00m np\u001b[39m.\u001b[39misscalar(userid) \u001b[39melse\u001b[39;00m \u001b[39mlen\u001b[39m(userid)\n\u001b[1;32m     <a href='file:///Users/gyoungwon-cho/.pyenv/versions/3.9-dev/envs/pytorch3.9/lib/python3.9/site-packages/implicit/cpu/matrix_factorization_base.py?line=43'>44</a>\u001b[0m     \u001b[39mif\u001b[39;00m user_items\u001b[39m.\u001b[39mshape[\u001b[39m0\u001b[39m] \u001b[39m!=\u001b[39m user_count:\n\u001b[0;32m---> <a href='file:///Users/gyoungwon-cho/.pyenv/versions/3.9-dev/envs/pytorch3.9/lib/python3.9/site-packages/implicit/cpu/matrix_factorization_base.py?line=44'>45</a>\u001b[0m         \u001b[39mraise\u001b[39;00m \u001b[39mValueError\u001b[39;00m(\u001b[39m\"\u001b[39m\u001b[39muser_items must contain 1 row for every user in userids\u001b[39m\u001b[39m\"\u001b[39m)\n\u001b[1;32m     <a href='file:///Users/gyoungwon-cho/.pyenv/versions/3.9-dev/envs/pytorch3.9/lib/python3.9/site-packages/implicit/cpu/matrix_factorization_base.py?line=46'>47</a>\u001b[0m user \u001b[39m=\u001b[39m \u001b[39mself\u001b[39m\u001b[39m.\u001b[39m_user_factor(userid, user_items, recalculate_user)\n\u001b[1;32m     <a href='file:///Users/gyoungwon-cho/.pyenv/versions/3.9-dev/envs/pytorch3.9/lib/python3.9/site-packages/implicit/cpu/matrix_factorization_base.py?line=48'>49</a>\u001b[0m item_factors \u001b[39m=\u001b[39m \u001b[39mself\u001b[39m\u001b[39m.\u001b[39mitem_factors\n",
      "\u001b[0;31mValueError\u001b[0m: user_items must contain 1 row for every user in userids"
     ]
    }
   ],
   "source": [
    "total_rec_list = {}\n",
    "for user in tqdm(data['useridx'].unique()):\n",
    "  rec_list = []\n",
    "  \n",
    "  # 기존에 만든 Book ID를 변경 \n",
    "  seen = read_list[read_list['user_id'] == idx2user[user]]['unique'].values[0]\n",
    "  recs = als_model.recommend(user, purchase_sparse, N=250)\n",
    "  recs = [idx2book[x[0]] for x in recs][0:250]  \n",
    "  \n",
    "  for rec in recs: \n",
    "    if rec not in seen:\n",
    "      rec_list.append(rec)\n",
    "  \n",
    "  if len(rec_list) < 200:\n",
    "    for i in popular_rec_model[0:200]:\n",
    "      if rec not in seen:\n",
    "        rec_list.append(rec)\n",
    "\n",
    "  total_rec_list[idx2user[user]] = rec_list[0:200]"
   ]
  },
  {
   "cell_type": "code",
   "execution_count": null,
   "metadata": {},
   "outputs": [],
   "source": [
    "evaluate_func = evaluate(recs=total_rec_list, gt = gt, topn=200)\n",
    "evaluate_func._evaluate()"
   ]
  },
  {
   "cell_type": "code",
   "execution_count": null,
   "metadata": {},
   "outputs": [],
   "source": []
  }
 ],
 "metadata": {
  "interpreter": {
   "hash": "819822aad1d7dd5a8911f6442f86af1dcc8bcd014a1dc82c30af569169ee7dac"
  },
  "kernelspec": {
   "display_name": "Python 3.9.10 64-bit ('pytorch3.9')",
   "language": "python",
   "name": "python3"
  },
  "language_info": {
   "codemirror_mode": {
    "name": "ipython",
    "version": 3
   },
   "file_extension": ".py",
   "mimetype": "text/x-python",
   "name": "python",
   "nbconvert_exporter": "python",
   "pygments_lexer": "ipython3",
   "version": "3.9.10"
  },
  "orig_nbformat": 4
 },
 "nbformat": 4,
 "nbformat_minor": 2
}
