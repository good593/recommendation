{
 "cells": [
  {
   "cell_type": "markdown",
   "metadata": {},
   "source": [
    "### https://github.com/HarshdeepGupta/recommender_pytorch"
   ]
  },
  {
   "cell_type": "code",
   "execution_count": 1,
   "metadata": {},
   "outputs": [],
   "source": [
    "import train_test_split as data_split "
   ]
  },
  {
   "cell_type": "markdown",
   "metadata": {},
   "source": [
    "### Prepare the dataset\n",
    "> The file u.data is the one picked from MovieLens 100K archive.  \n",
    ">  Run the following command to get the train and test split for the dataset."
   ]
  },
  {
   "cell_type": "code",
   "execution_count": 2,
   "metadata": {},
   "outputs": [
    {
     "name": "stdout",
     "output_type": "stream",
     "text": [
      "transactions.shape: (100000, 4)\n",
      "transactions[userID].nunique(): 943\n",
      "Size of the entire dataset:(100000, 4)\n",
      "train_df.shape: (99057, 4)\n",
      "Saving df to path: ./Data/movielens.train.rating\n",
      "Columns in df are: ['userID', 'movieID', 'rating', 'timestamp']\n",
      "test_df.shape: (943, 4)\n",
      "Saving df to path: ./Data/movielens.test.rating\n",
      "Columns in df are: ['userID', 'movieID', 'rating', 'timestamp']\n",
      "Total No. of Records = 100000.0\n",
      "Train size = 99057, Test size = 943\n",
      "Train % = 0.99057, Test % =0.00943\n"
     ]
    },
    {
     "name": "stderr",
     "output_type": "stream",
     "text": [
      "/Users/gyoungwon-cho/dev/github/pytorch-tutorial/recommendation/MovieLens/HarshdeepGupta/train_test_split.py:28: SettingWithCopyWarning: \n",
      "A value is trying to be set on a copy of a slice from a DataFrame\n",
      "\n",
      "See the caveats in the documentation: https://pandas.pydata.org/pandas-docs/stable/user_guide/indexing.html#returning-a-view-versus-a-copy\n",
      "  train_df.sort_values(by=[\"userID\", 'timestamp'], inplace = True)\n",
      "/Users/gyoungwon-cho/dev/github/pytorch-tutorial/recommendation/MovieLens/HarshdeepGupta/train_test_split.py:29: SettingWithCopyWarning: \n",
      "A value is trying to be set on a copy of a slice from a DataFrame\n",
      "\n",
      "See the caveats in the documentation: https://pandas.pydata.org/pandas-docs/stable/user_guide/indexing.html#returning-a-view-versus-a-copy\n",
      "  test_df.sort_values(by=[\"userID\", 'timestamp'], inplace = True)\n"
     ]
    }
   ],
   "source": [
    "data_split.main()"
   ]
  },
  {
   "cell_type": "code",
   "execution_count": 8,
   "metadata": {},
   "outputs": [],
   "source": [
    "import pandas as pd\n",
    "import scipy.sparse as sp\n",
    "import numpy as np\n",
    "\n",
    "m = sp.dok_matrix((3, 4)) # 값이 0으로 채워진 (3, 4) 크기의 행렬을 만듭니다.\n",
    "m[0, 1] = 4\n",
    "m[2, 3] = 9"
   ]
  },
  {
   "cell_type": "code",
   "execution_count": 9,
   "metadata": {},
   "outputs": [
    {
     "name": "stdout",
     "output_type": "stream",
     "text": [
      "0 1\n",
      "2 3\n"
     ]
    }
   ],
   "source": [
    "for (u, i) in m.keys():\n",
    "  print(u, i)"
   ]
  },
  {
   "cell_type": "markdown",
   "metadata": {},
   "source": [
    "### Run the Item Popularity Model\n",
    "> The following command runs the model and prints the metrics"
   ]
  },
  {
   "cell_type": "code",
   "execution_count": null,
   "metadata": {},
   "outputs": [],
   "source": [
    "import itempop as itempop\n",
    "import easydict"
   ]
  },
  {
   "cell_type": "code",
   "execution_count": null,
   "metadata": {},
   "outputs": [],
   "source": [
    "args = easydict.EasyDict({\n",
    "  \"path\": './Data/',\n",
    "  \"dataset\": 'movielens',\n",
    "  \"num_neg_test\": 100\n",
    "})"
   ]
  },
  {
   "cell_type": "code",
   "execution_count": null,
   "metadata": {},
   "outputs": [],
   "source": [
    "itempop.main(args)"
   ]
  },
  {
   "cell_type": "markdown",
   "metadata": {},
   "source": [
    "### Run the deep learning based Model\n",
    "> The following command runs the model and prints the metrics"
   ]
  },
  {
   "cell_type": "code",
   "execution_count": 1,
   "metadata": {},
   "outputs": [],
   "source": [
    "import MLP as mlp\n",
    "import easydict"
   ]
  },
  {
   "cell_type": "code",
   "execution_count": 2,
   "metadata": {},
   "outputs": [],
   "source": [
    "args = easydict.EasyDict({\n",
    "  \"path\": './Data/',\n",
    "  \"dataset\": 'movielens',\n",
    "  \"epochs\": 30,\n",
    "  \"batch_size\": 256,\n",
    "  \"layers\": '[16,32,16,8]',\n",
    "  \"weight_decay\": 0.00001,\n",
    "  \"num_neg_train\": 4,\n",
    "  \"num_neg_test\": 100,\n",
    "  \"lr\": 0.001,\n",
    "  \"dropout\": 0,\n",
    "  \"learner\": 'adam',\n",
    "  \"verbose\": 1,\n",
    "  \"out\": 1\n",
    "})"
   ]
  },
  {
   "cell_type": "code",
   "execution_count": 3,
   "metadata": {},
   "outputs": [
    {
     "name": "stdout",
     "output_type": "stream",
     "text": [
      "MLP arguments: {'path': './Data/', 'dataset': 'movielens', 'epochs': 30, 'batch_size': 256, 'layers': '[16,32,16,8]', 'weight_decay': 1e-05, 'num_neg_train': 4, 'num_neg_test': 100, 'lr': 0.001, 'dropout': 0, 'learner': 'adam', 'verbose': 1, 'out': 1} \n",
      "Load data done [1.4 s]. #user=944, #item=1683, #train=99057, #test=943\n",
      "MLP(\n",
      "  (user_embedding): Embedding(944, 8)\n",
      "  (item_embedding): Embedding(1683, 8)\n",
      "  (fc_layers): ModuleList(\n",
      "    (0): Linear(in_features=16, out_features=32, bias=True)\n",
      "    (1): Linear(in_features=32, out_features=16, bias=True)\n",
      "    (2): Linear(in_features=16, out_features=8, bias=True)\n",
      "  )\n",
      "  (output_layer): Linear(in_features=8, out_features=1, bias=True)\n",
      ")\n",
      "Eval: HR = 0.0965, NDCG = 0.0424 [0.2 s]\n",
      "Epoch = 0\n",
      "Epoch completed 1.4 s\n",
      "Train Loss: 0.4409698581202702\n",
      "Eval: HR = 0.3945, NDCG = 0.2074 [0.2 s]\n",
      "Epoch = 1\n",
      "Epoch completed 1.4 s\n",
      "Train Loss: 0.3634291231016164\n",
      "Eval: HR = 0.3924, NDCG = 0.2147 [0.2 s]\n",
      "Epoch = 2\n",
      "Epoch completed 1.4 s\n",
      "Train Loss: 0.3553504589300131\n",
      "Eval: HR = 0.3987, NDCG = 0.2164 [0.2 s]\n",
      "Epoch = 3\n",
      "Epoch completed 1.3 s\n",
      "Train Loss: 0.35167766411329116\n",
      "Eval: HR = 0.4040, NDCG = 0.2193 [0.2 s]\n",
      "Epoch = 4\n",
      "Epoch completed 1.3 s\n",
      "Train Loss: 0.34873335927493815\n",
      "Eval: HR = 0.4083, NDCG = 0.2217 [0.2 s]\n",
      "Epoch = 5\n",
      "Epoch completed 1.4 s\n",
      "Train Loss: 0.34576653088094034\n",
      "Eval: HR = 0.4146, NDCG = 0.2348 [0.2 s]\n",
      "Epoch = 6\n",
      "Epoch completed 1.3 s\n",
      "Train Loss: 0.3419994455591345\n",
      "Eval: HR = 0.4390, NDCG = 0.2497 [0.2 s]\n",
      "Epoch = 7\n",
      "Epoch completed 1.3 s\n",
      "Train Loss: 0.33745216661799476\n",
      "Eval: HR = 0.4571, NDCG = 0.2627 [0.2 s]\n",
      "Epoch = 8\n",
      "Epoch completed 1.3 s\n",
      "Train Loss: 0.33214026091172716\n",
      "Eval: HR = 0.4666, NDCG = 0.2676 [0.2 s]\n",
      "Epoch = 9\n",
      "Epoch completed 1.3 s\n",
      "Train Loss: 0.32522212638103376\n",
      "Eval: HR = 0.4878, NDCG = 0.2829 [0.2 s]\n",
      "Epoch = 10\n",
      "Epoch completed 1.4 s\n",
      "Train Loss: 0.3183871049443573\n",
      "Eval: HR = 0.5217, NDCG = 0.2898 [0.2 s]\n",
      "Epoch = 11\n",
      "Epoch completed 1.4 s\n",
      "Train Loss: 0.3128433460721058\n",
      "Eval: HR = 0.5260, NDCG = 0.2951 [0.2 s]\n",
      "Epoch = 12\n",
      "Epoch completed 1.3 s\n",
      "Train Loss: 0.3084743100543355\n",
      "Eval: HR = 0.5239, NDCG = 0.2976 [0.2 s]\n",
      "Epoch = 13\n",
      "Epoch completed 1.3 s\n",
      "Train Loss: 0.3046313033778538\n",
      "Eval: HR = 0.5292, NDCG = 0.2975 [0.2 s]\n",
      "Epoch = 14\n",
      "Epoch completed 1.3 s\n",
      "Train Loss: 0.3010716880168718\n",
      "Eval: HR = 0.5302, NDCG = 0.2981 [0.2 s]\n",
      "Epoch = 15\n",
      "Epoch completed 1.3 s\n",
      "Train Loss: 0.2973983433973574\n",
      "Eval: HR = 0.5472, NDCG = 0.3022 [0.2 s]\n",
      "Epoch = 16\n",
      "Epoch completed 1.3 s\n",
      "Train Loss: 0.2941360362432416\n",
      "Eval: HR = 0.5514, NDCG = 0.3034 [0.2 s]\n",
      "Epoch = 17\n",
      "Epoch completed 1.3 s\n",
      "Train Loss: 0.29125443660011585\n",
      "Eval: HR = 0.5514, NDCG = 0.3075 [0.2 s]\n",
      "Epoch = 18\n",
      "Epoch completed 1.3 s\n",
      "Train Loss: 0.28854096649691113\n",
      "Eval: HR = 0.5504, NDCG = 0.3072 [0.2 s]\n",
      "Epoch = 19\n",
      "Epoch completed 1.3 s\n",
      "Train Loss: 0.2861020017039868\n",
      "Eval: HR = 0.5695, NDCG = 0.3085 [0.2 s]\n",
      "Epoch = 20\n",
      "Epoch completed 1.3 s\n",
      "Train Loss: 0.2840273061309982\n",
      "Eval: HR = 0.5589, NDCG = 0.3097 [0.2 s]\n",
      "Epoch = 21\n",
      "Epoch completed 1.3 s\n",
      "Train Loss: 0.282022309665224\n",
      "Eval: HR = 0.5673, NDCG = 0.3145 [0.2 s]\n",
      "Epoch = 22\n",
      "Epoch completed 1.3 s\n",
      "Train Loss: 0.28016059342434857\n",
      "Eval: HR = 0.5737, NDCG = 0.3143 [0.2 s]\n",
      "Epoch = 23\n",
      "Epoch completed 1.3 s\n",
      "Train Loss: 0.27875226331773656\n",
      "Eval: HR = 0.5716, NDCG = 0.3097 [0.2 s]\n",
      "Epoch = 24\n",
      "Epoch completed 1.3 s\n",
      "Train Loss: 0.2775449397875049\n",
      "Eval: HR = 0.5748, NDCG = 0.3144 [0.2 s]\n",
      "Epoch = 25\n",
      "Epoch completed 1.3 s\n",
      "Train Loss: 0.27599444707388715\n",
      "Eval: HR = 0.5758, NDCG = 0.3140 [0.2 s]\n",
      "Epoch = 26\n",
      "Epoch completed 1.3 s\n",
      "Train Loss: 0.27496682987656706\n",
      "Eval: HR = 0.5716, NDCG = 0.3154 [0.2 s]\n",
      "Epoch = 27\n",
      "Epoch completed 1.3 s\n",
      "Train Loss: 0.27377554266027704\n",
      "Eval: HR = 0.5663, NDCG = 0.3083 [0.2 s]\n",
      "Epoch = 28\n",
      "Epoch completed 1.3 s\n",
      "Train Loss: 0.2728009719411224\n",
      "Eval: HR = 0.5652, NDCG = 0.3107 [0.2 s]\n",
      "Epoch = 29\n",
      "Epoch completed 1.3 s\n",
      "Train Loss: 0.2716570752227645\n",
      "Eval: HR = 0.5684, NDCG = 0.3126 [0.2 s]\n",
      "hr for epochs:  [0.09650053022269353, 0.3944856839872747, 0.39236479321314954, 0.3987274655355249, 0.40402969247083775, 0.40827147401908803, 0.4146341463414634, 0.43902439024390244, 0.45705196182396607, 0.46659597030752914, 0.4878048780487805, 0.5217391304347826, 0.5259809119830329, 0.5238600212089077, 0.5291622481442205, 0.5302226935312832, 0.5471898197242842, 0.5514316012725344, 0.5514316012725344, 0.5503711558854719, 0.5694591728525981, 0.5588547189819725, 0.5673382820784729, 0.5737009544008483, 0.5715800636267232, 0.574761399787911, 0.5758218451749735, 0.5715800636267232, 0.5662778366914104, 0.5652173913043478, 0.5683987274655355]\n",
      "ndcg for epochs:  [0.0423747654806099, 0.20736526481910506, 0.21465780148614458, 0.2163683428827769, 0.2193469489885842, 0.22166596820680176, 0.2347937515375558, 0.24967680015908794, 0.2626807764315362, 0.2675635486165996, 0.28286017106190425, 0.2898144815496191, 0.2950648708789338, 0.2975501512924388, 0.29752084014722985, 0.29806755239299665, 0.30224078987569303, 0.303409897369961, 0.3074752476518655, 0.3072497776972972, 0.3085285647989495, 0.3097484706983137, 0.3144795712326667, 0.3143376122025479, 0.30967950701294, 0.31438256714467094, 0.3139663247483179, 0.3153515535741678, 0.30831038282132833, 0.3106793356059467, 0.3126066739422245]\n",
      "loss for epochs:  [1, 0.4409698581202702, 0.3634291231016164, 0.3553504589300131, 0.35167766411329116, 0.34873335927493815, 0.34576653088094034, 0.3419994455591345, 0.33745216661799476, 0.33214026091172716, 0.32522212638103376, 0.3183871049443573, 0.3128433460721058, 0.3084743100543355, 0.3046313033778538, 0.3010716880168718, 0.2973983433973574, 0.2941360362432416, 0.29125443660011585, 0.28854096649691113, 0.2861020017039868, 0.2840273061309982, 0.282022309665224, 0.28016059342434857, 0.27875226331773656, 0.2775449397875049, 0.27599444707388715, 0.27496682987656706, 0.27377554266027704, 0.2728009719411224, 0.2716570752227645]\n",
      "End. Best Iteration 26:  HR = 0.5758, NDCG = 0.3140. \n"
     ]
    }
   ],
   "source": [
    "mlp.main(args)"
   ]
  }
 ],
 "metadata": {
  "interpreter": {
   "hash": "819822aad1d7dd5a8911f6442f86af1dcc8bcd014a1dc82c30af569169ee7dac"
  },
  "kernelspec": {
   "display_name": "Python 3.9.10 64-bit ('pytorch3.9')",
   "language": "python",
   "name": "python3"
  },
  "language_info": {
   "codemirror_mode": {
    "name": "ipython",
    "version": 3
   },
   "file_extension": ".py",
   "mimetype": "text/x-python",
   "name": "python",
   "nbconvert_exporter": "python",
   "pygments_lexer": "ipython3",
   "version": "3.9.10+"
  },
  "orig_nbformat": 4
 },
 "nbformat": 4,
 "nbformat_minor": 2
}
