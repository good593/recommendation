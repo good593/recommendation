{
 "cells": [
  {
   "cell_type": "markdown",
   "metadata": {},
   "source": [
    "- https://www.kaggle.com/code/leejunseok97/deepfm-deepctr-torch"
   ]
  },
  {
   "cell_type": "code",
   "execution_count": 1,
   "metadata": {},
   "outputs": [],
   "source": [
    "import os, random, gc\n",
    "import numpy as np \n",
    "import pandas as pd \n",
    "import matplotlib.pyplot as plt \n",
    "import seaborn as sns "
   ]
  },
  {
   "cell_type": "code",
   "execution_count": 2,
   "metadata": {},
   "outputs": [
    {
     "name": "stderr",
     "output_type": "stream",
     "text": [
      "/var/folders/tv/05qbcb8954z9x1yvqv_kr2t80000gn/T/ipykernel_38122/1491187812.py:29: FutureWarning: The pandas.datetime class is deprecated and will be removed from pandas in a future version. Import from datetime module instead.\n",
      "  parse_date = lambda val : pd.datetime.strptime(val, '%y%m%d%H')\n"
     ]
    }
   ],
   "source": [
    "dtype={'id': np.dtype(int), # personal_id\n",
    "    'click': np.dtype(int), # target\n",
    "    'hour': np.dtype(str), # datetime\n",
    "    'C1': np.dtype(str), # anonymized categorical variable\n",
    "    'banner_pos': np.dtype(str), # showing banner\n",
    "    'site_id': np.dtype(str), \n",
    "    'site_domain': np.dtype(str), \n",
    "    'site_category': np.dtype(str), \n",
    "    'app_id': np.dtype(str), \n",
    "    'app_domain': np.dtype(str), \n",
    "    'app_category': np.dtype(str), \n",
    "    'device_id': np.dtype(str), \n",
    "    'device_ip': np.dtype(str), \n",
    "    'device_model': np.dtype(str),\n",
    "    'device_type': np.dtype(str),\n",
    "    'device_conn_type': np.dtype(str),\n",
    "    'C14': np.dtype(str), # C14 ~ C21: anonymized categorical variables\n",
    "    'C15': np.dtype(str),\n",
    "    'C16': np.dtype(str),\n",
    "    'C17': np.dtype(str),\n",
    "    'C18': np.dtype(str),\n",
    "    'C19': np.dtype(str),\n",
    "    'C20': np.dtype(str),\n",
    "    'C21':np.dtype(str)\n",
    "      }\n",
    "num_records = 40428967\n",
    "sample_size = 50000\n",
    "skip_values = sorted(random.sample(range(1,num_records), num_records - sample_size))\n",
    "parse_date = lambda val : pd.datetime.strptime(val, '%y%m%d%H')\n",
    "\n",
    "train = pd.read_csv(\"../data/avazu/train.gz\", parse_dates=['hour'], date_parser=parse_date, dtype=dtype, skiprows=skip_values)"
   ]
  },
  {
   "cell_type": "code",
   "execution_count": 3,
   "metadata": {},
   "outputs": [
    {
     "name": "stdout",
     "output_type": "stream",
     "text": [
      "Train dataset: (50000, 24)\n",
      "Test dataset: (4577464, 23)\n"
     ]
    }
   ],
   "source": [
    "test = pd.read_csv('../data/avazu/test.gz')\n",
    "\n",
    "print('Train dataset:',train.shape)\n",
    "print('Test dataset:',test.shape)"
   ]
  },
  {
   "cell_type": "code",
   "execution_count": 8,
   "metadata": {},
   "outputs": [],
   "source": [
    "train.set_index('hour',inplace=True)\n",
    "test.set_index('hour',inplace=True)"
   ]
  },
  {
   "cell_type": "code",
   "execution_count": 4,
   "metadata": {},
   "outputs": [],
   "source": [
    "import torch\n",
    "from deepctr_torch.inputs import SparseFeat, DenseFeat, get_feature_names\n",
    "from deepctr_torch.models import *"
   ]
  },
  {
   "cell_type": "code",
   "execution_count": 9,
   "metadata": {},
   "outputs": [],
   "source": [
    "data = train "
   ]
  },
  {
   "cell_type": "code",
   "execution_count": 10,
   "metadata": {},
   "outputs": [],
   "source": [
    "sparse_features = train.iloc[::,2:14].columns.values.tolist()\n",
    "dense_features = train.iloc[::,15:].columns.values.tolist()\n",
    "sparse_features.append('id')\n",
    "target = ['click']"
   ]
  },
  {
   "cell_type": "code",
   "execution_count": 11,
   "metadata": {},
   "outputs": [
    {
     "data": {
      "text/html": [
       "<div>\n",
       "<style scoped>\n",
       "    .dataframe tbody tr th:only-of-type {\n",
       "        vertical-align: middle;\n",
       "    }\n",
       "\n",
       "    .dataframe tbody tr th {\n",
       "        vertical-align: top;\n",
       "    }\n",
       "\n",
       "    .dataframe thead th {\n",
       "        text-align: right;\n",
       "    }\n",
       "</style>\n",
       "<table border=\"1\" class=\"dataframe\">\n",
       "  <thead>\n",
       "    <tr style=\"text-align: right;\">\n",
       "      <th></th>\n",
       "      <th>id</th>\n",
       "      <th>C1</th>\n",
       "      <th>banner_pos</th>\n",
       "      <th>site_id</th>\n",
       "      <th>site_domain</th>\n",
       "      <th>site_category</th>\n",
       "      <th>app_id</th>\n",
       "      <th>app_domain</th>\n",
       "      <th>app_category</th>\n",
       "      <th>device_id</th>\n",
       "      <th>...</th>\n",
       "      <th>device_type</th>\n",
       "      <th>device_conn_type</th>\n",
       "      <th>C14</th>\n",
       "      <th>C15</th>\n",
       "      <th>C16</th>\n",
       "      <th>C17</th>\n",
       "      <th>C18</th>\n",
       "      <th>C19</th>\n",
       "      <th>C20</th>\n",
       "      <th>C21</th>\n",
       "    </tr>\n",
       "    <tr>\n",
       "      <th>hour</th>\n",
       "      <th></th>\n",
       "      <th></th>\n",
       "      <th></th>\n",
       "      <th></th>\n",
       "      <th></th>\n",
       "      <th></th>\n",
       "      <th></th>\n",
       "      <th></th>\n",
       "      <th></th>\n",
       "      <th></th>\n",
       "      <th></th>\n",
       "      <th></th>\n",
       "      <th></th>\n",
       "      <th></th>\n",
       "      <th></th>\n",
       "      <th></th>\n",
       "      <th></th>\n",
       "      <th></th>\n",
       "      <th></th>\n",
       "      <th></th>\n",
       "      <th></th>\n",
       "    </tr>\n",
       "  </thead>\n",
       "  <tbody>\n",
       "    <tr>\n",
       "      <th>14103100</th>\n",
       "      <td>1.000017e+19</td>\n",
       "      <td>1005</td>\n",
       "      <td>0</td>\n",
       "      <td>235ba823</td>\n",
       "      <td>f6ebf28e</td>\n",
       "      <td>f028772b</td>\n",
       "      <td>ecad2386</td>\n",
       "      <td>7801e8d9</td>\n",
       "      <td>07d7df22</td>\n",
       "      <td>a99f214a</td>\n",
       "      <td>...</td>\n",
       "      <td>1</td>\n",
       "      <td>0</td>\n",
       "      <td>8330</td>\n",
       "      <td>320</td>\n",
       "      <td>50</td>\n",
       "      <td>761</td>\n",
       "      <td>3</td>\n",
       "      <td>175</td>\n",
       "      <td>100075</td>\n",
       "      <td>23</td>\n",
       "    </tr>\n",
       "    <tr>\n",
       "      <th>14103100</th>\n",
       "      <td>1.000018e+19</td>\n",
       "      <td>1005</td>\n",
       "      <td>0</td>\n",
       "      <td>1fbe01fe</td>\n",
       "      <td>f3845767</td>\n",
       "      <td>28905ebd</td>\n",
       "      <td>ecad2386</td>\n",
       "      <td>7801e8d9</td>\n",
       "      <td>07d7df22</td>\n",
       "      <td>a99f214a</td>\n",
       "      <td>...</td>\n",
       "      <td>1</td>\n",
       "      <td>0</td>\n",
       "      <td>22676</td>\n",
       "      <td>320</td>\n",
       "      <td>50</td>\n",
       "      <td>2616</td>\n",
       "      <td>0</td>\n",
       "      <td>35</td>\n",
       "      <td>100083</td>\n",
       "      <td>51</td>\n",
       "    </tr>\n",
       "    <tr>\n",
       "      <th>14103100</th>\n",
       "      <td>1.000055e+19</td>\n",
       "      <td>1005</td>\n",
       "      <td>0</td>\n",
       "      <td>1fbe01fe</td>\n",
       "      <td>f3845767</td>\n",
       "      <td>28905ebd</td>\n",
       "      <td>ecad2386</td>\n",
       "      <td>7801e8d9</td>\n",
       "      <td>07d7df22</td>\n",
       "      <td>a99f214a</td>\n",
       "      <td>...</td>\n",
       "      <td>1</td>\n",
       "      <td>0</td>\n",
       "      <td>22676</td>\n",
       "      <td>320</td>\n",
       "      <td>50</td>\n",
       "      <td>2616</td>\n",
       "      <td>0</td>\n",
       "      <td>35</td>\n",
       "      <td>100083</td>\n",
       "      <td>51</td>\n",
       "    </tr>\n",
       "    <tr>\n",
       "      <th>14103100</th>\n",
       "      <td>1.000109e+19</td>\n",
       "      <td>1005</td>\n",
       "      <td>0</td>\n",
       "      <td>85f751fd</td>\n",
       "      <td>c4e18dd6</td>\n",
       "      <td>50e219e0</td>\n",
       "      <td>51cedd4e</td>\n",
       "      <td>aefc06bd</td>\n",
       "      <td>0f2161f8</td>\n",
       "      <td>a99f214a</td>\n",
       "      <td>...</td>\n",
       "      <td>1</td>\n",
       "      <td>0</td>\n",
       "      <td>18648</td>\n",
       "      <td>320</td>\n",
       "      <td>50</td>\n",
       "      <td>1092</td>\n",
       "      <td>3</td>\n",
       "      <td>809</td>\n",
       "      <td>100156</td>\n",
       "      <td>61</td>\n",
       "    </tr>\n",
       "    <tr>\n",
       "      <th>14103100</th>\n",
       "      <td>1.000138e+19</td>\n",
       "      <td>1005</td>\n",
       "      <td>0</td>\n",
       "      <td>85f751fd</td>\n",
       "      <td>c4e18dd6</td>\n",
       "      <td>50e219e0</td>\n",
       "      <td>9c13b419</td>\n",
       "      <td>2347f47a</td>\n",
       "      <td>f95efa07</td>\n",
       "      <td>a99f214a</td>\n",
       "      <td>...</td>\n",
       "      <td>1</td>\n",
       "      <td>0</td>\n",
       "      <td>23160</td>\n",
       "      <td>320</td>\n",
       "      <td>50</td>\n",
       "      <td>2667</td>\n",
       "      <td>0</td>\n",
       "      <td>47</td>\n",
       "      <td>-1</td>\n",
       "      <td>221</td>\n",
       "    </tr>\n",
       "  </tbody>\n",
       "</table>\n",
       "<p>5 rows × 22 columns</p>\n",
       "</div>"
      ],
      "text/plain": [
       "                    id    C1  banner_pos   site_id site_domain site_category  \\\n",
       "hour                                                                           \n",
       "14103100  1.000017e+19  1005           0  235ba823    f6ebf28e      f028772b   \n",
       "14103100  1.000018e+19  1005           0  1fbe01fe    f3845767      28905ebd   \n",
       "14103100  1.000055e+19  1005           0  1fbe01fe    f3845767      28905ebd   \n",
       "14103100  1.000109e+19  1005           0  85f751fd    c4e18dd6      50e219e0   \n",
       "14103100  1.000138e+19  1005           0  85f751fd    c4e18dd6      50e219e0   \n",
       "\n",
       "            app_id app_domain app_category device_id  ... device_type  \\\n",
       "hour                                                  ...               \n",
       "14103100  ecad2386   7801e8d9     07d7df22  a99f214a  ...           1   \n",
       "14103100  ecad2386   7801e8d9     07d7df22  a99f214a  ...           1   \n",
       "14103100  ecad2386   7801e8d9     07d7df22  a99f214a  ...           1   \n",
       "14103100  51cedd4e   aefc06bd     0f2161f8  a99f214a  ...           1   \n",
       "14103100  9c13b419   2347f47a     f95efa07  a99f214a  ...           1   \n",
       "\n",
       "         device_conn_type    C14  C15  C16   C17  C18  C19     C20  C21  \n",
       "hour                                                                     \n",
       "14103100                0   8330  320   50   761    3  175  100075   23  \n",
       "14103100                0  22676  320   50  2616    0   35  100083   51  \n",
       "14103100                0  22676  320   50  2616    0   35  100083   51  \n",
       "14103100                0  18648  320   50  1092    3  809  100156   61  \n",
       "14103100                0  23160  320   50  2667    0   47      -1  221  \n",
       "\n",
       "[5 rows x 22 columns]"
      ]
     },
     "execution_count": 11,
     "metadata": {},
     "output_type": "execute_result"
    }
   ],
   "source": [
    "test.head()"
   ]
  },
  {
   "cell_type": "code",
   "execution_count": 12,
   "metadata": {},
   "outputs": [],
   "source": [
    "test_sparse_features = test.iloc[::,0:14].columns.values.tolist()\n",
    "test_dense_features = test.iloc[::,14:].columns.values.tolist()"
   ]
  },
  {
   "cell_type": "code",
   "execution_count": 13,
   "metadata": {},
   "outputs": [],
   "source": [
    "from sklearn.preprocessing import MinMaxScaler,LabelEncoder\n",
    "scaler = MinMaxScaler(feature_range=(0,1))\n",
    "encoder = LabelEncoder()"
   ]
  },
  {
   "cell_type": "code",
   "execution_count": 14,
   "metadata": {},
   "outputs": [],
   "source": [
    "for feat in sparse_features:\n",
    "    data[feat] = encoder.fit_transform(data[feat])\n",
    "data[dense_features] = scaler.fit_transform(data[dense_features])"
   ]
  },
  {
   "cell_type": "code",
   "execution_count": 15,
   "metadata": {},
   "outputs": [],
   "source": [
    "for feat in test_sparse_features:\n",
    "    test[feat] = encoder.fit_transform(test[feat])\n",
    "test[dense_features] = scaler.fit_transform(test[test_dense_features])"
   ]
  },
  {
   "cell_type": "code",
   "execution_count": 16,
   "metadata": {},
   "outputs": [
    {
     "data": {
      "text/plain": [
       "[SparseFeat(name='C1', vocabulary_size=7, embedding_dim=4, use_hash=False, dtype='int32', embedding_name='C1', group_name='default_group'),\n",
       " SparseFeat(name='banner_pos', vocabulary_size=7, embedding_dim=4, use_hash=False, dtype='int32', embedding_name='banner_pos', group_name='default_group'),\n",
       " SparseFeat(name='site_id', vocabulary_size=1160, embedding_dim=4, use_hash=False, dtype='int32', embedding_name='site_id', group_name='default_group'),\n",
       " SparseFeat(name='site_domain', vocabulary_size=1006, embedding_dim=4, use_hash=False, dtype='int32', embedding_name='site_domain', group_name='default_group'),\n",
       " SparseFeat(name='site_category', vocabulary_size=20, embedding_dim=4, use_hash=False, dtype='int32', embedding_name='site_category', group_name='default_group'),\n",
       " SparseFeat(name='app_id', vocabulary_size=982, embedding_dim=4, use_hash=False, dtype='int32', embedding_name='app_id', group_name='default_group'),\n",
       " SparseFeat(name='app_domain', vocabulary_size=70, embedding_dim=4, use_hash=False, dtype='int32', embedding_name='app_domain', group_name='default_group'),\n",
       " SparseFeat(name='app_category', vocabulary_size=20, embedding_dim=4, use_hash=False, dtype='int32', embedding_name='app_category', group_name='default_group'),\n",
       " SparseFeat(name='device_id', vocabulary_size=8531, embedding_dim=4, use_hash=False, dtype='int32', embedding_name='device_id', group_name='default_group'),\n",
       " SparseFeat(name='device_ip', vocabulary_size=41537, embedding_dim=4, use_hash=False, dtype='int32', embedding_name='device_ip', group_name='default_group'),\n",
       " SparseFeat(name='device_model', vocabulary_size=2585, embedding_dim=4, use_hash=False, dtype='int32', embedding_name='device_model', group_name='default_group'),\n",
       " SparseFeat(name='device_type', vocabulary_size=4, embedding_dim=4, use_hash=False, dtype='int32', embedding_name='device_type', group_name='default_group'),\n",
       " SparseFeat(name='id', vocabulary_size=50000, embedding_dim=4, use_hash=False, dtype='int32', embedding_name='id', group_name='default_group'),\n",
       " DenseFeat(name='C14', dimension=1, dtype='float32'),\n",
       " DenseFeat(name='C15', dimension=1, dtype='float32'),\n",
       " DenseFeat(name='C16', dimension=1, dtype='float32'),\n",
       " DenseFeat(name='C17', dimension=1, dtype='float32'),\n",
       " DenseFeat(name='C18', dimension=1, dtype='float32'),\n",
       " DenseFeat(name='C19', dimension=1, dtype='float32'),\n",
       " DenseFeat(name='C20', dimension=1, dtype='float32'),\n",
       " DenseFeat(name='C21', dimension=1, dtype='float32')]"
      ]
     },
     "execution_count": 16,
     "metadata": {},
     "output_type": "execute_result"
    }
   ],
   "source": [
    "fixlen_feature_columns = [\n",
    "  SparseFeat(feat,data[feat].nunique()) for feat in sparse_features] + [\n",
    "  DenseFeat(feat,1,) for feat in dense_features\n",
    "]\n",
    "\n",
    "fixlen_feature_columns"
   ]
  },
  {
   "cell_type": "code",
   "execution_count": 17,
   "metadata": {},
   "outputs": [],
   "source": [
    "dnn_feature_columns = fixlen_feature_columns\n",
    "linear_feature_columns = fixlen_feature_columns"
   ]
  },
  {
   "cell_type": "code",
   "execution_count": 18,
   "metadata": {},
   "outputs": [
    {
     "data": {
      "text/plain": [
       "['C1',\n",
       " 'banner_pos',\n",
       " 'site_id',\n",
       " 'site_domain',\n",
       " 'site_category',\n",
       " 'app_id',\n",
       " 'app_domain',\n",
       " 'app_category',\n",
       " 'device_id',\n",
       " 'device_ip',\n",
       " 'device_model',\n",
       " 'device_type',\n",
       " 'id',\n",
       " 'C14',\n",
       " 'C15',\n",
       " 'C16',\n",
       " 'C17',\n",
       " 'C18',\n",
       " 'C19',\n",
       " 'C20',\n",
       " 'C21']"
      ]
     },
     "execution_count": 18,
     "metadata": {},
     "output_type": "execute_result"
    }
   ],
   "source": [
    "feature_names = get_feature_names(linear_feature_columns + dnn_feature_columns)\n",
    "feature_names"
   ]
  },
  {
   "cell_type": "code",
   "execution_count": 19,
   "metadata": {},
   "outputs": [],
   "source": [
    "train_model_input = {name: data[name]for name in feature_names}"
   ]
  },
  {
   "cell_type": "code",
   "execution_count": 20,
   "metadata": {},
   "outputs": [],
   "source": [
    "test_model_input = {name: test[name] for name in feature_names}"
   ]
  },
  {
   "cell_type": "code",
   "execution_count": 21,
   "metadata": {},
   "outputs": [],
   "source": [
    "device = ('cuda' if torch.cuda.is_available() else 'cpu')"
   ]
  },
  {
   "cell_type": "code",
   "execution_count": 22,
   "metadata": {},
   "outputs": [
    {
     "data": {
      "text/plain": [
       "DeepFM(\n",
       "  (embedding_dict): ModuleDict(\n",
       "    (C1): Embedding(7, 4)\n",
       "    (banner_pos): Embedding(7, 4)\n",
       "    (site_id): Embedding(1160, 4)\n",
       "    (site_domain): Embedding(1006, 4)\n",
       "    (site_category): Embedding(20, 4)\n",
       "    (app_id): Embedding(982, 4)\n",
       "    (app_domain): Embedding(70, 4)\n",
       "    (app_category): Embedding(20, 4)\n",
       "    (device_id): Embedding(8531, 4)\n",
       "    (device_ip): Embedding(41537, 4)\n",
       "    (device_model): Embedding(2585, 4)\n",
       "    (device_type): Embedding(4, 4)\n",
       "    (id): Embedding(50000, 4)\n",
       "  )\n",
       "  (linear_model): Linear(\n",
       "    (embedding_dict): ModuleDict(\n",
       "      (C1): Embedding(7, 1)\n",
       "      (banner_pos): Embedding(7, 1)\n",
       "      (site_id): Embedding(1160, 1)\n",
       "      (site_domain): Embedding(1006, 1)\n",
       "      (site_category): Embedding(20, 1)\n",
       "      (app_id): Embedding(982, 1)\n",
       "      (app_domain): Embedding(70, 1)\n",
       "      (app_category): Embedding(20, 1)\n",
       "      (device_id): Embedding(8531, 1)\n",
       "      (device_ip): Embedding(41537, 1)\n",
       "      (device_model): Embedding(2585, 1)\n",
       "      (device_type): Embedding(4, 1)\n",
       "      (id): Embedding(50000, 1)\n",
       "    )\n",
       "  )\n",
       "  (out): PredictionLayer()\n",
       "  (fm): FM()\n",
       "  (dnn): DNN(\n",
       "    (dropout): Dropout(p=0.7, inplace=False)\n",
       "    (linears): ModuleList(\n",
       "      (0): Linear(in_features=60, out_features=256, bias=True)\n",
       "      (1): Linear(in_features=256, out_features=128, bias=True)\n",
       "    )\n",
       "    (activation_layers): ModuleList(\n",
       "      (0): ReLU(inplace=True)\n",
       "      (1): ReLU(inplace=True)\n",
       "    )\n",
       "  )\n",
       "  (dnn_linear): Linear(in_features=128, out_features=1, bias=False)\n",
       ")"
      ]
     },
     "execution_count": 22,
     "metadata": {},
     "output_type": "execute_result"
    }
   ],
   "source": [
    "model = DeepFM(linear_feature_columns,dnn_feature_columns,\n",
    "              task='binary',device=device,dnn_dropout=0.7)\n",
    "model"
   ]
  },
  {
   "cell_type": "code",
   "execution_count": 23,
   "metadata": {},
   "outputs": [],
   "source": [
    "model.compile(optimizer = 'adam',\n",
    "              loss = 'binary_crossentropy',\n",
    "              metrics = ['binary_crossentropy','auc'])"
   ]
  },
  {
   "cell_type": "code",
   "execution_count": 24,
   "metadata": {},
   "outputs": [
    {
     "name": "stdout",
     "output_type": "stream",
     "text": [
      "cpu\n",
      "Train on 40000 samples, validate on 10000 samples, 40 steps per epoch\n"
     ]
    },
    {
     "name": "stderr",
     "output_type": "stream",
     "text": [
      "1it [00:00,  8.20it/s]\n"
     ]
    },
    {
     "ename": "RuntimeError",
     "evalue": "Output 0 of UnbindBackward0 is a view and its base or another view of its base has been modified inplace. This view is the output of a function that returns multiple views. Such functions do not allow the output views to be modified inplace. You should replace the inplace operation by an out-of-place one.",
     "output_type": "error",
     "traceback": [
      "\u001b[0;31m---------------------------------------------------------------------------\u001b[0m",
      "\u001b[0;31mRuntimeError\u001b[0m                              Traceback (most recent call last)",
      "File \u001b[0;32m<timed exec>:1\u001b[0m, in \u001b[0;36m<module>\u001b[0;34m\u001b[0m\n",
      "File \u001b[0;32m~/.pyenv/versions/3.9-dev/envs/pytorch3.9/lib/python3.9/site-packages/deepctr_torch/models/basemodel.py:221\u001b[0m, in \u001b[0;36mBaseModel.fit\u001b[0;34m(self, x, y, batch_size, epochs, verbose, initial_epoch, validation_split, validation_data, shuffle, use_double)\u001b[0m\n\u001b[1;32m    219\u001b[0m optim\u001b[39m.\u001b[39mzero_grad()\n\u001b[1;32m    220\u001b[0m loss \u001b[39m=\u001b[39m loss_func(y_pred, y\u001b[39m.\u001b[39msqueeze(), reduction\u001b[39m=\u001b[39m\u001b[39m'\u001b[39m\u001b[39msum\u001b[39m\u001b[39m'\u001b[39m)\n\u001b[0;32m--> 221\u001b[0m reg_loss \u001b[39m=\u001b[39m \u001b[39mself\u001b[39;49m\u001b[39m.\u001b[39;49mget_regularization_loss()\n\u001b[1;32m    223\u001b[0m total_loss \u001b[39m=\u001b[39m loss \u001b[39m+\u001b[39m reg_loss \u001b[39m+\u001b[39m \u001b[39mself\u001b[39m\u001b[39m.\u001b[39maux_loss\n\u001b[1;32m    225\u001b[0m loss_epoch \u001b[39m+\u001b[39m\u001b[39m=\u001b[39m loss\u001b[39m.\u001b[39mitem()\n",
      "File \u001b[0;32m~/.pyenv/versions/3.9-dev/envs/pytorch3.9/lib/python3.9/site-packages/deepctr_torch/models/basemodel.py:370\u001b[0m, in \u001b[0;36mBaseModel.get_regularization_loss\u001b[0;34m(self)\u001b[0m\n\u001b[1;32m    368\u001b[0m         l2_reg \u001b[39m=\u001b[39m torch\u001b[39m.\u001b[39mnorm(w[\u001b[39m1\u001b[39m], p\u001b[39m=\u001b[39mp)\n\u001b[1;32m    369\u001b[0m     \u001b[39melse\u001b[39;00m:\n\u001b[0;32m--> 370\u001b[0m         l2_reg \u001b[39m=\u001b[39m torch\u001b[39m.\u001b[39;49mnorm(w, p\u001b[39m=\u001b[39;49mp)\n\u001b[1;32m    371\u001b[0m     weight_reg_loss \u001b[39m=\u001b[39m weight_reg_loss \u001b[39m+\u001b[39m l2_reg\n\u001b[1;32m    372\u001b[0m reg_loss \u001b[39m=\u001b[39m weight_decay \u001b[39m*\u001b[39m weight_reg_loss\n",
      "File \u001b[0;32m~/.pyenv/versions/3.9-dev/envs/pytorch3.9/lib/python3.9/site-packages/torch/functional.py:1546\u001b[0m, in \u001b[0;36mnorm\u001b[0;34m(input, p, dim, keepdim, out, dtype)\u001b[0m\n\u001b[1;32m   1544\u001b[0m     \u001b[39mif\u001b[39;00m \u001b[39mnot\u001b[39;00m \u001b[39misinstance\u001b[39m(p, \u001b[39mstr\u001b[39m):\n\u001b[1;32m   1545\u001b[0m         _dim \u001b[39m=\u001b[39m [i \u001b[39mfor\u001b[39;00m i \u001b[39min\u001b[39;00m \u001b[39mrange\u001b[39m(ndim)]  \u001b[39m# noqa: C416 TODO: rewrite as list(range(m))\u001b[39;00m\n\u001b[0;32m-> 1546\u001b[0m         \u001b[39mreturn\u001b[39;00m _VF\u001b[39m.\u001b[39;49mnorm(\u001b[39minput\u001b[39;49m, p, dim\u001b[39m=\u001b[39;49m_dim, keepdim\u001b[39m=\u001b[39;49mkeepdim)  \u001b[39m# type: ignore[attr-defined]\u001b[39;00m\n\u001b[1;32m   1548\u001b[0m \u001b[39m# TODO: when https://github.com/pytorch/pytorch/issues/33782 is fixed\u001b[39;00m\n\u001b[1;32m   1549\u001b[0m \u001b[39m# remove the overloads where dim is an int and replace with BraodcastingList1\u001b[39;00m\n\u001b[1;32m   1550\u001b[0m \u001b[39m# and remove next four lines, replace _dim with dim\u001b[39;00m\n\u001b[1;32m   1551\u001b[0m \u001b[39mif\u001b[39;00m dim \u001b[39mis\u001b[39;00m \u001b[39mnot\u001b[39;00m \u001b[39mNone\u001b[39;00m:\n",
      "\u001b[0;31mRuntimeError\u001b[0m: Output 0 of UnbindBackward0 is a view and its base or another view of its base has been modified inplace. This view is the output of a function that returns multiple views. Such functions do not allow the output views to be modified inplace. You should replace the inplace operation by an out-of-place one."
     ]
    }
   ],
   "source": [
    "%%time\n",
    "history = model.fit(train_model_input, train[target].values, batch_size=1024, epochs=10, verbose=1,\n",
    "                        validation_split=0.2)"
   ]
  },
  {
   "cell_type": "code",
   "execution_count": null,
   "metadata": {},
   "outputs": [],
   "source": []
  }
 ],
 "metadata": {
  "kernelspec": {
   "display_name": "Python 3.9.10 64-bit ('pytorch3.9')",
   "language": "python",
   "name": "python3"
  },
  "language_info": {
   "codemirror_mode": {
    "name": "ipython",
    "version": 3
   },
   "file_extension": ".py",
   "mimetype": "text/x-python",
   "name": "python",
   "nbconvert_exporter": "python",
   "pygments_lexer": "ipython3",
   "version": "3.9.10"
  },
  "orig_nbformat": 4,
  "vscode": {
   "interpreter": {
    "hash": "819822aad1d7dd5a8911f6442f86af1dcc8bcd014a1dc82c30af569169ee7dac"
   }
  }
 },
 "nbformat": 4,
 "nbformat_minor": 2
}
